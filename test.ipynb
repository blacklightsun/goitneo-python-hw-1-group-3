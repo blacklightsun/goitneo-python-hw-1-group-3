{
 "cells": [
  {
   "cell_type": "code",
   "execution_count": 19,
   "metadata": {},
   "outputs": [
    {
     "name": "stdout",
     "output_type": "stream",
     "text": [
      "('Jin', datetime.datetime(2024, 11, 7, 0, 0), ['0679634589', '0507894523'])\n"
     ]
    },
    {
     "name": "stderr",
     "output_type": "stream",
     "text": [
      "<>:17: SyntaxWarning: invalid escape sequence '\\d'\n",
      "<>:17: SyntaxWarning: invalid escape sequence '\\d'\n",
      "C:\\Users\\admin\\AppData\\Local\\Temp\\ipykernel_17792\\393053281.py:17: SyntaxWarning: invalid escape sequence '\\d'\n",
      "  if re.search(\"\\d{4}-\\d{2}-\\d{2}\", arg) != None:  # birthday\n"
     ]
    }
   ],
   "source": [
    "import re\n",
    "from datetime import datetime, timedelta\n",
    "\n",
    "\n",
    "def split_args_with_name(args):\n",
    "\n",
    "    if len(args) < 1:\n",
    "        return None, None, []\n",
    "\n",
    "    else:\n",
    "        name = args[0]\n",
    "        birthday = None\n",
    "        phones = []\n",
    "        other_args = args[1:]\n",
    "\n",
    "        for arg in other_args:  # search in other args for\n",
    "            if re.search(\"\\d{4}-\\d{2}-\\d{2}\", arg) != None:  # birthday\n",
    "                birthday = datetime(\n",
    "                    int(arg[0:4]),\n",
    "                    int(arg[5:7]),\n",
    "                    int(arg[8:]),\n",
    "                    0,\n",
    "                    0,\n",
    "                    0,\n",
    "                )\n",
    "            else:  # or phones\n",
    "                phones.append(arg)\n",
    "    return name, birthday, phones\n",
    "\n",
    "# print(split_args_with_name(['Jin', '2024-11-07', '0679634589']))\n",
    "# print(split_args_with_name([\"Jin\", \"0679634589\"]))\n",
    "# print(split_args_with_name([\"Jin\", \"2024-11-07\",]))\n",
    "# print(split_args_with_name([\"Jin\", ]))\n",
    "print(split_args_with_name([\"Jin\", \"2024-11-07\", \"0679634589\", '0507894523']))"
   ]
  }
 ],
 "metadata": {
  "kernelspec": {
   "display_name": "Python 3",
   "language": "python",
   "name": "python3"
  },
  "language_info": {
   "codemirror_mode": {
    "name": "ipython",
    "version": 3
   },
   "file_extension": ".py",
   "mimetype": "text/x-python",
   "name": "python",
   "nbconvert_exporter": "python",
   "pygments_lexer": "ipython3",
   "version": "3.12.1"
  }
 },
 "nbformat": 4,
 "nbformat_minor": 2
}
