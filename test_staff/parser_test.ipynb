{
 "cells": [
  {
   "cell_type": "code",
   "execution_count": 1,
   "metadata": {},
   "outputs": [],
   "source": [
    "import collections\n",
    "\n",
    "Cat = collections.namedtuple(\"Cat\", [\"nickname\", \"age\", \"owner\"])\n",
    "\n",
    "var1 = [\n",
    "    {\"nickname\": \"Mick\", \"age\": 5, \"owner\": \"Sara\"},\n",
    "    {\"nickname\": \"Barsik\", \"age\": 7, \"owner\": \"Olga\"},\n",
    "    {\"nickname\": \"Simon\", \"age\": 3, \"owner\": \"Yura\"},\n",
    "]"
   ]
  },
  {
   "cell_type": "code",
   "execution_count": 2,
   "metadata": {},
   "outputs": [
    {
     "data": {
      "text/plain": [
       "True"
      ]
     },
     "execution_count": 2,
     "metadata": {},
     "output_type": "execute_result"
    }
   ],
   "source": [
    "isinstance(var1, list)"
   ]
  },
  {
   "cell_type": "code",
   "execution_count": 18,
   "metadata": {},
   "outputs": [
    {
     "name": "stdout",
     "output_type": "stream",
     "text": [
      "{'nickname': 'Mick', 'age': 5, 'owner': 'Sara'}\n",
      "['Mick']\n",
      "['Mick', 5]\n",
      "['Mick', 5, 'Sara']\n",
      "{'nickname': 'Barsik', 'age': 7, 'owner': 'Olga'}\n",
      "['Barsik']\n",
      "['Barsik', 7]\n",
      "['Barsik', 7, 'Olga']\n",
      "{'nickname': 'Simon', 'age': 3, 'owner': 'Yura'}\n",
      "['Simon']\n",
      "['Simon', 3]\n",
      "['Simon', 3, 'Yura']\n",
      "[Cat(nickname='Mick', age=5, owner='Sara'), Cat(nickname='Barsik', age=7, owner='Olga'), Cat(nickname='Simon', age=3, owner='Yura')]\n"
     ]
    }
   ],
   "source": [
    "result_list = []\n",
    "for i in var1:\n",
    "    string_list = []\n",
    "    for j in i.values():\n",
    "        string_list.append(j)\n",
    "    cat = Cat(*string_list)\n",
    "    result_list.append(cat)"
   ]
  }
 ],
 "metadata": {
  "kernelspec": {
   "display_name": "Python 3",
   "language": "python",
   "name": "python3"
  },
  "language_info": {
   "codemirror_mode": {
    "name": "ipython",
    "version": 3
   },
   "file_extension": ".py",
   "mimetype": "text/x-python",
   "name": "python",
   "nbconvert_exporter": "python",
   "pygments_lexer": "ipython3",
   "version": "3.12.1"
  }
 },
 "nbformat": 4,
 "nbformat_minor": 2
}
