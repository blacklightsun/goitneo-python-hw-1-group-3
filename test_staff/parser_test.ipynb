{
 "cells": [
  {
   "cell_type": "code",
   "execution_count": 42,
   "metadata": {},
   "outputs": [
    {
     "ename": "SyntaxError",
     "evalue": "invalid syntax (3409679987.py, line 5)",
     "output_type": "error",
     "traceback": [
      "\u001b[1;36m  Cell \u001b[1;32mIn[42], line 5\u001b[1;36m\u001b[0m\n\u001b[1;33m    parser_list.append(None) for _ in range(3 - len(parser_list))\u001b[0m\n\u001b[1;37m                             ^\u001b[0m\n\u001b[1;31mSyntaxError\u001b[0m\u001b[1;31m:\u001b[0m invalid syntax\n"
     ]
    }
   ],
   "source": [
    "while True:\n",
    "\n",
    "    parser_list = input(\"Enter a command: \").split()\n",
    "    for _ in range(3 - len(parser_list)):\n",
    "        parser_list.append(None)\n",
    "    command, name, *args = parser_list\n",
    "    if command is None:\n",
    "        print(\"Command isn't entered! Enter it, please!\")\n",
    "        continue\n",
    "    command = command.strip().lower()\n",
    "    arguments = (*args,)\n",
    "\n",
    "\n",
    "\n",
    "\n",
    "    if command == 'q':\n",
    "        print(\"Buy!\")\n",
    "        break\n",
    "\n",
    "    print(command)\n",
    "    print(name)\n",
    "    print(arguments)"
   ]
  },
  {
   "cell_type": "code",
   "execution_count": 25,
   "metadata": {},
   "outputs": [
    {
     "name": "stdout",
     "output_type": "stream",
     "text": [
      "1\n",
      "2\n",
      "['3', '4', '5']\n"
     ]
    }
   ],
   "source": [
    "command_list = input(\"Enter a command: \").strip().split()\n",
    "\n",
    "for _ in range(3 - len(command_list)):\n",
    "    command_list.append(None)\n",
    "\n",
    "a, b, *c = command_list\n",
    "\n",
    "print(a)\n",
    "print(b)\n",
    "print(c)\n"
   ]
  },
  {
   "cell_type": "code",
   "execution_count": 4,
   "metadata": {},
   "outputs": [
    {
     "data": {
      "text/plain": [
       "[0, 0, 'strawberry', 0, 'pineapple', 'mandarin orange']"
      ]
     },
     "execution_count": 4,
     "metadata": {},
     "output_type": "execute_result"
    }
   ],
   "source": [
    "fruits = [\"mango\", \"kiwi\", \"strawberry\", \"guava\", \"pineapple\", \"mandarin orange\"]\n",
    "\n",
    "fruit_with_more_than_5_characters = [f if len(f) > 5 else 0 for f in fruits]\n",
    "\n",
    "fruit_with_more_than_5_characters"
   ]
  }
 ],
 "metadata": {
  "kernelspec": {
   "display_name": "Python 3",
   "language": "python",
   "name": "python3"
  },
  "language_info": {
   "codemirror_mode": {
    "name": "ipython",
    "version": 3
   },
   "file_extension": ".py",
   "mimetype": "text/x-python",
   "name": "python",
   "nbconvert_exporter": "python",
   "pygments_lexer": "ipython3",
   "version": "3.12.1"
  }
 },
 "nbformat": 4,
 "nbformat_minor": 2
}
